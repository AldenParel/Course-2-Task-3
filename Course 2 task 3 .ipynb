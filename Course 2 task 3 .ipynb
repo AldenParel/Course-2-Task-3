{
 "cells": [
  {
   "cell_type": "code",
   "execution_count": 1,
   "id": "35057f87",
   "metadata": {},
   "outputs": [],
   "source": [
    "from sqlalchemy import create_engine\n",
    "import tkinter\n",
    "import matplotlib\n",
    "matplotlib.use('TkAgg')\n",
    "import matplotlib.pyplot as plt\n",
    "\n",
    "#imports\n",
    "#numpy,pandas,scipy, math, matplotlib\n",
    "import numpy as np\n",
    "import pandas as pd\n",
    "import scipy\n",
    "from math import sqrt\n",
    "import matplotlib.pyplot as plt\n",
    "#estimators\n",
    "from sklearn.ensemble import RandomForestRegressor\n",
    "from sklearn.linear_model import LinearRegression\n",
    "from sklearn.svm import SVR\n",
    "#model metrics\n",
    "from sklearn.metrics import accuracy_score, classification_report\n",
    "from sklearn.metrics import mean_squared_error\n",
    "from sklearn.metrics import r2_score\n",
    "from sklearn.model_selection import cross_val_score\n",
    "#cross validation\n",
    "#from sklearn.cross_validation import train_test_split \n",
    "from sklearn.model_selection import train_test_split\n",
    "\n",
    "from sklearn.metrics import accuracy_score, classification_report\n",
    "from sklearn.ensemble import RandomForestClassifier, GradientBoostingClassifier\n",
    "from sklearn.tree import DecisionTreeClassifier\n",
    "from sklearn.model_selection import cross_val_score\n",
    "from sklearn.ensemble import AdaBoostClassifier\n",
    "from sklearn.datasets import load_digits"
   ]
  },
  {
   "cell_type": "code",
   "execution_count": 2,
   "id": "d1c52477",
   "metadata": {},
   "outputs": [],
   "source": [
    "#importing csv file from task 2\n",
    "rawData= pd.read_csv('cleancredit.csv', header = 1)"
   ]
  },
  {
   "cell_type": "code",
   "execution_count": 3,
   "id": "9bffec5d",
   "metadata": {},
   "outputs": [
    {
     "data": {
      "text/html": [
       "<div>\n",
       "<style scoped>\n",
       "    .dataframe tbody tr th:only-of-type {\n",
       "        vertical-align: middle;\n",
       "    }\n",
       "\n",
       "    .dataframe tbody tr th {\n",
       "        vertical-align: top;\n",
       "    }\n",
       "\n",
       "    .dataframe thead th {\n",
       "        text-align: right;\n",
       "    }\n",
       "</style>\n",
       "<table border=\"1\" class=\"dataframe\">\n",
       "  <thead>\n",
       "    <tr style=\"text-align: right;\">\n",
       "      <th></th>\n",
       "      <th>ID</th>\n",
       "      <th>LIMIT_BAL</th>\n",
       "      <th>SEX</th>\n",
       "      <th>EDUCATION</th>\n",
       "      <th>MARRIAGE</th>\n",
       "      <th>AGE</th>\n",
       "      <th>PAY_0</th>\n",
       "      <th>PAY_2</th>\n",
       "      <th>PAY_3</th>\n",
       "      <th>PAY_4</th>\n",
       "      <th>...</th>\n",
       "      <th>BILL_AMT4</th>\n",
       "      <th>BILL_AMT5</th>\n",
       "      <th>BILL_AMT6</th>\n",
       "      <th>PAY_AMT1</th>\n",
       "      <th>PAY_AMT2</th>\n",
       "      <th>PAY_AMT3</th>\n",
       "      <th>PAY_AMT4</th>\n",
       "      <th>PAY_AMT5</th>\n",
       "      <th>PAY_AMT6</th>\n",
       "      <th>default payment next month</th>\n",
       "    </tr>\n",
       "  </thead>\n",
       "  <tbody>\n",
       "    <tr>\n",
       "      <th>0</th>\n",
       "      <td>1</td>\n",
       "      <td>20000</td>\n",
       "      <td>female</td>\n",
       "      <td>university</td>\n",
       "      <td>1</td>\n",
       "      <td>24</td>\n",
       "      <td>2</td>\n",
       "      <td>2</td>\n",
       "      <td>-1</td>\n",
       "      <td>-1</td>\n",
       "      <td>...</td>\n",
       "      <td>0</td>\n",
       "      <td>0</td>\n",
       "      <td>0</td>\n",
       "      <td>0</td>\n",
       "      <td>689</td>\n",
       "      <td>0</td>\n",
       "      <td>0</td>\n",
       "      <td>0</td>\n",
       "      <td>0</td>\n",
       "      <td>default</td>\n",
       "    </tr>\n",
       "    <tr>\n",
       "      <th>1</th>\n",
       "      <td>2</td>\n",
       "      <td>120000</td>\n",
       "      <td>female</td>\n",
       "      <td>university</td>\n",
       "      <td>2</td>\n",
       "      <td>26</td>\n",
       "      <td>-1</td>\n",
       "      <td>2</td>\n",
       "      <td>0</td>\n",
       "      <td>0</td>\n",
       "      <td>...</td>\n",
       "      <td>3272</td>\n",
       "      <td>3455</td>\n",
       "      <td>3261</td>\n",
       "      <td>0</td>\n",
       "      <td>1000</td>\n",
       "      <td>1000</td>\n",
       "      <td>1000</td>\n",
       "      <td>0</td>\n",
       "      <td>2000</td>\n",
       "      <td>default</td>\n",
       "    </tr>\n",
       "    <tr>\n",
       "      <th>2</th>\n",
       "      <td>3</td>\n",
       "      <td>90000</td>\n",
       "      <td>female</td>\n",
       "      <td>university</td>\n",
       "      <td>2</td>\n",
       "      <td>34</td>\n",
       "      <td>0</td>\n",
       "      <td>0</td>\n",
       "      <td>0</td>\n",
       "      <td>0</td>\n",
       "      <td>...</td>\n",
       "      <td>14331</td>\n",
       "      <td>14948</td>\n",
       "      <td>15549</td>\n",
       "      <td>1518</td>\n",
       "      <td>1500</td>\n",
       "      <td>1000</td>\n",
       "      <td>1000</td>\n",
       "      <td>1000</td>\n",
       "      <td>5000</td>\n",
       "      <td>not default</td>\n",
       "    </tr>\n",
       "    <tr>\n",
       "      <th>3</th>\n",
       "      <td>4</td>\n",
       "      <td>50000</td>\n",
       "      <td>female</td>\n",
       "      <td>university</td>\n",
       "      <td>1</td>\n",
       "      <td>37</td>\n",
       "      <td>0</td>\n",
       "      <td>0</td>\n",
       "      <td>0</td>\n",
       "      <td>0</td>\n",
       "      <td>...</td>\n",
       "      <td>28314</td>\n",
       "      <td>28959</td>\n",
       "      <td>29547</td>\n",
       "      <td>2000</td>\n",
       "      <td>2019</td>\n",
       "      <td>1200</td>\n",
       "      <td>1100</td>\n",
       "      <td>1069</td>\n",
       "      <td>1000</td>\n",
       "      <td>not default</td>\n",
       "    </tr>\n",
       "    <tr>\n",
       "      <th>4</th>\n",
       "      <td>5</td>\n",
       "      <td>50000</td>\n",
       "      <td>male</td>\n",
       "      <td>university</td>\n",
       "      <td>1</td>\n",
       "      <td>57</td>\n",
       "      <td>-1</td>\n",
       "      <td>0</td>\n",
       "      <td>-1</td>\n",
       "      <td>0</td>\n",
       "      <td>...</td>\n",
       "      <td>20940</td>\n",
       "      <td>19146</td>\n",
       "      <td>19131</td>\n",
       "      <td>2000</td>\n",
       "      <td>36681</td>\n",
       "      <td>10000</td>\n",
       "      <td>9000</td>\n",
       "      <td>689</td>\n",
       "      <td>679</td>\n",
       "      <td>not default</td>\n",
       "    </tr>\n",
       "  </tbody>\n",
       "</table>\n",
       "<p>5 rows × 25 columns</p>\n",
       "</div>"
      ],
      "text/plain": [
       "   ID  LIMIT_BAL     SEX   EDUCATION  MARRIAGE  AGE  PAY_0  PAY_2  PAY_3  \\\n",
       "0   1      20000  female  university         1   24      2      2     -1   \n",
       "1   2     120000  female  university         2   26     -1      2      0   \n",
       "2   3      90000  female  university         2   34      0      0      0   \n",
       "3   4      50000  female  university         1   37      0      0      0   \n",
       "4   5      50000    male  university         1   57     -1      0     -1   \n",
       "\n",
       "   PAY_4  ...  BILL_AMT4  BILL_AMT5  BILL_AMT6  PAY_AMT1  PAY_AMT2  PAY_AMT3  \\\n",
       "0     -1  ...          0          0          0         0       689         0   \n",
       "1      0  ...       3272       3455       3261         0      1000      1000   \n",
       "2      0  ...      14331      14948      15549      1518      1500      1000   \n",
       "3      0  ...      28314      28959      29547      2000      2019      1200   \n",
       "4      0  ...      20940      19146      19131      2000     36681     10000   \n",
       "\n",
       "   PAY_AMT4  PAY_AMT5  PAY_AMT6  default payment next month  \n",
       "0         0         0         0                     default  \n",
       "1      1000         0      2000                     default  \n",
       "2      1000      1000      5000                 not default  \n",
       "3      1100      1069      1000                 not default  \n",
       "4      9000       689       679                 not default  \n",
       "\n",
       "[5 rows x 25 columns]"
      ]
     },
     "execution_count": 3,
     "metadata": {},
     "output_type": "execute_result"
    }
   ],
   "source": [
    "rawData.head()"
   ]
  },
  {
   "cell_type": "code",
   "execution_count": 5,
   "id": "bc7dad7d",
   "metadata": {
    "scrolled": true
   },
   "outputs": [
    {
     "name": "stdout",
     "output_type": "stream",
     "text": [
      "<class 'pandas.core.frame.DataFrame'>\n",
      "RangeIndex: 30000 entries, 0 to 29999\n",
      "Data columns (total 30 columns):\n",
      " #   Column                                  Non-Null Count  Dtype\n",
      "---  ------                                  --------------  -----\n",
      " 0   ID                                      30000 non-null  int64\n",
      " 1   LIMIT_BAL                               30000 non-null  int64\n",
      " 2   MARRIAGE                                30000 non-null  int64\n",
      " 3   AGE                                     30000 non-null  int64\n",
      " 4   PAY_0                                   30000 non-null  int64\n",
      " 5   PAY_2                                   30000 non-null  int64\n",
      " 6   PAY_3                                   30000 non-null  int64\n",
      " 7   PAY_4                                   30000 non-null  int64\n",
      " 8   PAY_5                                   30000 non-null  int64\n",
      " 9   PAY_6                                   30000 non-null  int64\n",
      " 10  BILL_AMT1                               30000 non-null  int64\n",
      " 11  BILL_AMT2                               30000 non-null  int64\n",
      " 12  BILL_AMT3                               30000 non-null  int64\n",
      " 13  BILL_AMT4                               30000 non-null  int64\n",
      " 14  BILL_AMT5                               30000 non-null  int64\n",
      " 15  BILL_AMT6                               30000 non-null  int64\n",
      " 16  PAY_AMT1                                30000 non-null  int64\n",
      " 17  PAY_AMT2                                30000 non-null  int64\n",
      " 18  PAY_AMT3                                30000 non-null  int64\n",
      " 19  PAY_AMT4                                30000 non-null  int64\n",
      " 20  PAY_AMT5                                30000 non-null  int64\n",
      " 21  PAY_AMT6                                30000 non-null  int64\n",
      " 22  SEX_female                              30000 non-null  uint8\n",
      " 23  SEX_male                                30000 non-null  uint8\n",
      " 24  EDUCATION_graduate school               30000 non-null  uint8\n",
      " 25  EDUCATION_high school                   30000 non-null  uint8\n",
      " 26  EDUCATION_other                         30000 non-null  uint8\n",
      " 27  EDUCATION_university                    30000 non-null  uint8\n",
      " 28  default payment next month_default      30000 non-null  uint8\n",
      " 29  default payment next month_not default  30000 non-null  uint8\n",
      "dtypes: int64(22), uint8(8)\n",
      "memory usage: 5.3 MB\n"
     ]
    }
   ],
   "source": [
    "rawData.info()"
   ]
  },
  {
   "cell_type": "code",
   "execution_count": 4,
   "id": "38e9ea42",
   "metadata": {},
   "outputs": [
    {
     "name": "stdout",
     "output_type": "stream",
     "text": [
      "<class 'pandas.core.frame.DataFrame'>\n",
      "RangeIndex: 30000 entries, 0 to 29999\n",
      "Data columns (total 30 columns):\n",
      " #   Column                                  Non-Null Count  Dtype\n",
      "---  ------                                  --------------  -----\n",
      " 0   ID                                      30000 non-null  int64\n",
      " 1   LIMIT_BAL                               30000 non-null  int64\n",
      " 2   MARRIAGE                                30000 non-null  int64\n",
      " 3   AGE                                     30000 non-null  int64\n",
      " 4   PAY_0                                   30000 non-null  int64\n",
      " 5   PAY_2                                   30000 non-null  int64\n",
      " 6   PAY_3                                   30000 non-null  int64\n",
      " 7   PAY_4                                   30000 non-null  int64\n",
      " 8   PAY_5                                   30000 non-null  int64\n",
      " 9   PAY_6                                   30000 non-null  int64\n",
      " 10  BILL_AMT1                               30000 non-null  int64\n",
      " 11  BILL_AMT2                               30000 non-null  int64\n",
      " 12  BILL_AMT3                               30000 non-null  int64\n",
      " 13  BILL_AMT4                               30000 non-null  int64\n",
      " 14  BILL_AMT5                               30000 non-null  int64\n",
      " 15  BILL_AMT6                               30000 non-null  int64\n",
      " 16  PAY_AMT1                                30000 non-null  int64\n",
      " 17  PAY_AMT2                                30000 non-null  int64\n",
      " 18  PAY_AMT3                                30000 non-null  int64\n",
      " 19  PAY_AMT4                                30000 non-null  int64\n",
      " 20  PAY_AMT5                                30000 non-null  int64\n",
      " 21  PAY_AMT6                                30000 non-null  int64\n",
      " 22  SEX_female                              30000 non-null  uint8\n",
      " 23  SEX_male                                30000 non-null  uint8\n",
      " 24  EDUCATION_graduate school               30000 non-null  uint8\n",
      " 25  EDUCATION_high school                   30000 non-null  uint8\n",
      " 26  EDUCATION_other                         30000 non-null  uint8\n",
      " 27  EDUCATION_university                    30000 non-null  uint8\n",
      " 28  default payment next month_default      30000 non-null  uint8\n",
      " 29  default payment next month_not default  30000 non-null  uint8\n",
      "dtypes: int64(22), uint8(8)\n",
      "memory usage: 5.3 MB\n"
     ]
    }
   ],
   "source": [
    "rawData = pd.get_dummies(rawData)\n",
    "rawData.info()"
   ]
  },
  {
   "cell_type": "code",
   "execution_count": 6,
   "id": "0f433890",
   "metadata": {},
   "outputs": [
    {
     "name": "stdout",
     "output_type": "stream",
     "text": [
      "Summary of feature sample\n"
     ]
    },
    {
     "data": {
      "text/html": [
       "<div>\n",
       "<style scoped>\n",
       "    .dataframe tbody tr th:only-of-type {\n",
       "        vertical-align: middle;\n",
       "    }\n",
       "\n",
       "    .dataframe tbody tr th {\n",
       "        vertical-align: top;\n",
       "    }\n",
       "\n",
       "    .dataframe thead th {\n",
       "        text-align: right;\n",
       "    }\n",
       "</style>\n",
       "<table border=\"1\" class=\"dataframe\">\n",
       "  <thead>\n",
       "    <tr style=\"text-align: right;\">\n",
       "      <th></th>\n",
       "      <th>ID</th>\n",
       "      <th>LIMIT_BAL</th>\n",
       "      <th>MARRIAGE</th>\n",
       "      <th>AGE</th>\n",
       "      <th>PAY_0</th>\n",
       "      <th>PAY_2</th>\n",
       "      <th>PAY_3</th>\n",
       "      <th>PAY_4</th>\n",
       "      <th>PAY_5</th>\n",
       "      <th>PAY_6</th>\n",
       "      <th>...</th>\n",
       "      <th>PAY_AMT2</th>\n",
       "      <th>PAY_AMT3</th>\n",
       "      <th>PAY_AMT4</th>\n",
       "      <th>PAY_AMT5</th>\n",
       "      <th>PAY_AMT6</th>\n",
       "      <th>SEX_female</th>\n",
       "      <th>SEX_male</th>\n",
       "      <th>EDUCATION_graduate school</th>\n",
       "      <th>EDUCATION_high school</th>\n",
       "      <th>EDUCATION_other</th>\n",
       "    </tr>\n",
       "  </thead>\n",
       "  <tbody>\n",
       "    <tr>\n",
       "      <th>0</th>\n",
       "      <td>1</td>\n",
       "      <td>20000</td>\n",
       "      <td>1</td>\n",
       "      <td>24</td>\n",
       "      <td>2</td>\n",
       "      <td>2</td>\n",
       "      <td>-1</td>\n",
       "      <td>-1</td>\n",
       "      <td>-2</td>\n",
       "      <td>-2</td>\n",
       "      <td>...</td>\n",
       "      <td>689</td>\n",
       "      <td>0</td>\n",
       "      <td>0</td>\n",
       "      <td>0</td>\n",
       "      <td>0</td>\n",
       "      <td>1</td>\n",
       "      <td>0</td>\n",
       "      <td>0</td>\n",
       "      <td>0</td>\n",
       "      <td>0</td>\n",
       "    </tr>\n",
       "    <tr>\n",
       "      <th>1</th>\n",
       "      <td>2</td>\n",
       "      <td>120000</td>\n",
       "      <td>2</td>\n",
       "      <td>26</td>\n",
       "      <td>-1</td>\n",
       "      <td>2</td>\n",
       "      <td>0</td>\n",
       "      <td>0</td>\n",
       "      <td>0</td>\n",
       "      <td>2</td>\n",
       "      <td>...</td>\n",
       "      <td>1000</td>\n",
       "      <td>1000</td>\n",
       "      <td>1000</td>\n",
       "      <td>0</td>\n",
       "      <td>2000</td>\n",
       "      <td>1</td>\n",
       "      <td>0</td>\n",
       "      <td>0</td>\n",
       "      <td>0</td>\n",
       "      <td>0</td>\n",
       "    </tr>\n",
       "    <tr>\n",
       "      <th>2</th>\n",
       "      <td>3</td>\n",
       "      <td>90000</td>\n",
       "      <td>2</td>\n",
       "      <td>34</td>\n",
       "      <td>0</td>\n",
       "      <td>0</td>\n",
       "      <td>0</td>\n",
       "      <td>0</td>\n",
       "      <td>0</td>\n",
       "      <td>0</td>\n",
       "      <td>...</td>\n",
       "      <td>1500</td>\n",
       "      <td>1000</td>\n",
       "      <td>1000</td>\n",
       "      <td>1000</td>\n",
       "      <td>5000</td>\n",
       "      <td>1</td>\n",
       "      <td>0</td>\n",
       "      <td>0</td>\n",
       "      <td>0</td>\n",
       "      <td>0</td>\n",
       "    </tr>\n",
       "    <tr>\n",
       "      <th>3</th>\n",
       "      <td>4</td>\n",
       "      <td>50000</td>\n",
       "      <td>1</td>\n",
       "      <td>37</td>\n",
       "      <td>0</td>\n",
       "      <td>0</td>\n",
       "      <td>0</td>\n",
       "      <td>0</td>\n",
       "      <td>0</td>\n",
       "      <td>0</td>\n",
       "      <td>...</td>\n",
       "      <td>2019</td>\n",
       "      <td>1200</td>\n",
       "      <td>1100</td>\n",
       "      <td>1069</td>\n",
       "      <td>1000</td>\n",
       "      <td>1</td>\n",
       "      <td>0</td>\n",
       "      <td>0</td>\n",
       "      <td>0</td>\n",
       "      <td>0</td>\n",
       "    </tr>\n",
       "    <tr>\n",
       "      <th>4</th>\n",
       "      <td>5</td>\n",
       "      <td>50000</td>\n",
       "      <td>1</td>\n",
       "      <td>57</td>\n",
       "      <td>-1</td>\n",
       "      <td>0</td>\n",
       "      <td>-1</td>\n",
       "      <td>0</td>\n",
       "      <td>0</td>\n",
       "      <td>0</td>\n",
       "      <td>...</td>\n",
       "      <td>36681</td>\n",
       "      <td>10000</td>\n",
       "      <td>9000</td>\n",
       "      <td>689</td>\n",
       "      <td>679</td>\n",
       "      <td>0</td>\n",
       "      <td>1</td>\n",
       "      <td>0</td>\n",
       "      <td>0</td>\n",
       "      <td>0</td>\n",
       "    </tr>\n",
       "  </tbody>\n",
       "</table>\n",
       "<p>5 rows × 27 columns</p>\n",
       "</div>"
      ],
      "text/plain": [
       "   ID  LIMIT_BAL  MARRIAGE  AGE  PAY_0  PAY_2  PAY_3  PAY_4  PAY_5  PAY_6  \\\n",
       "0   1      20000         1   24      2      2     -1     -1     -2     -2   \n",
       "1   2     120000         2   26     -1      2      0      0      0      2   \n",
       "2   3      90000         2   34      0      0      0      0      0      0   \n",
       "3   4      50000         1   37      0      0      0      0      0      0   \n",
       "4   5      50000         1   57     -1      0     -1      0      0      0   \n",
       "\n",
       "   ...  PAY_AMT2  PAY_AMT3  PAY_AMT4  PAY_AMT5  PAY_AMT6  SEX_female  \\\n",
       "0  ...       689         0         0         0         0           1   \n",
       "1  ...      1000      1000      1000         0      2000           1   \n",
       "2  ...      1500      1000      1000      1000      5000           1   \n",
       "3  ...      2019      1200      1100      1069      1000           1   \n",
       "4  ...     36681     10000      9000       689       679           0   \n",
       "\n",
       "   SEX_male  EDUCATION_graduate school  EDUCATION_high school  EDUCATION_other  \n",
       "0         0                          0                      0                0  \n",
       "1         0                          0                      0                0  \n",
       "2         0                          0                      0                0  \n",
       "3         0                          0                      0                0  \n",
       "4         1                          0                      0                0  \n",
       "\n",
       "[5 rows x 27 columns]"
      ]
     },
     "execution_count": 6,
     "metadata": {},
     "output_type": "execute_result"
    }
   ],
   "source": [
    "#Testing regression with default as the dependent variable\n",
    "X0 = rawData.iloc[:,0:27]\n",
    "print('Summary of feature sample')\n",
    "X0.head()"
   ]
  },
  {
   "cell_type": "code",
   "execution_count": 7,
   "id": "f33e546c",
   "metadata": {},
   "outputs": [],
   "source": [
    "y0=rawData['default payment next month_default']"
   ]
  },
  {
   "cell_type": "code",
   "execution_count": 8,
   "id": "8f703c26",
   "metadata": {},
   "outputs": [
    {
     "name": "stdout",
     "output_type": "stream",
     "text": [
      "0        1\n",
      "1        1\n",
      "2        0\n",
      "3        0\n",
      "4        0\n",
      "        ..\n",
      "29995    0\n",
      "29996    0\n",
      "29997    1\n",
      "29998    1\n",
      "29999    1\n",
      "Name: default payment next month_default, Length: 30000, dtype: uint8\n"
     ]
    }
   ],
   "source": [
    "print(y0)"
   ]
  },
  {
   "cell_type": "code",
   "execution_count": 9,
   "id": "bea0bb52",
   "metadata": {},
   "outputs": [],
   "source": [
    "model0 = LinearRegression(n_jobs=10)"
   ]
  },
  {
   "cell_type": "code",
   "execution_count": 10,
   "id": "52d12d7f",
   "metadata": {},
   "outputs": [],
   "source": [
    "X0_train, X0_test, y0_train, y0_test = train_test_split(X0, y0, test_size = .30, random_state = 123)\n",
    "algo0 = DecisionTreeClassifier()\n",
    "model00 = algo0.fit(X0_train,y0_train)"
   ]
  },
  {
   "cell_type": "code",
   "execution_count": 11,
   "id": "610ef37c",
   "metadata": {},
   "outputs": [
    {
     "name": "stdout",
     "output_type": "stream",
     "text": [
      "[0.10525781 0.13310298 0.12459072]\n"
     ]
    }
   ],
   "source": [
    "print(cross_val_score(model0, X0, y0, cv=3)) "
   ]
  },
  {
   "cell_type": "code",
   "execution_count": 12,
   "id": "8cc5fb75",
   "metadata": {},
   "outputs": [
    {
     "name": "stdout",
     "output_type": "stream",
     "text": [
      "[0.11169482 0.13377469 0.12272578]\n"
     ]
    }
   ],
   "source": [
    "print(cross_val_score(model0, X0_train, y0_train, cv=3)) "
   ]
  },
  {
   "cell_type": "code",
   "execution_count": 13,
   "id": "b43d8fa0",
   "metadata": {},
   "outputs": [],
   "source": [
    "algosClass0 = []\n",
    "\n",
    "algosClass0.append(('Random Forest Regressor',RandomForestRegressor()))\n",
    "\n",
    "algosClass0.append(('Linear Regression',LinearRegression()))\n",
    "\n",
    "algosClass0.append(('Support Vector Regression',SVR()))\n",
    "\n",
    "algosClass00 = []\n",
    "algosClass00.append(('Random Forest Classifier', RandomForestClassifier()))\n",
    "algosClass00.append(('Decision Tree Classifier', DecisionTreeClassifier()))\n",
    "algosClass00.append(('Gradient Boosting Classifier', GradientBoostingClassifier()))\n",
    "algosClass00.append(('AdaBoostClassifier',AdaBoostClassifier()))"
   ]
  },
  {
   "cell_type": "code",
   "execution_count": 14,
   "id": "cb86f059",
   "metadata": {},
   "outputs": [],
   "source": [
    "results0 = []\n",
    "names0 = []\n",
    "\n",
    "results00 = []\n",
    "names00 = []\n",
    "for name0, model0 in algosClass0:\n",
    "    result0 = cross_val_score(model0, X0,y0, cv=3, scoring='r2')\n",
    "    names0.append(name0)\n",
    "    results0.append(result0)\n",
    "    \n",
    "for name00, model00 in algosClass00:\n",
    "    result00 = cross_val_score(model00, X0,y0, cv=3, scoring='accuracy')\n",
    "    names0.append(name00)\n",
    "    results0.append(result00)  "
   ]
  },
  {
   "cell_type": "code",
   "execution_count": 15,
   "id": "6ed51eef",
   "metadata": {},
   "outputs": [
    {
     "name": "stdout",
     "output_type": "stream",
     "text": [
      "Random Forest Regressor 0.07742135048743733\n",
      "Linear Regression 0.12098383548904572\n",
      "Support Vector Regression -0.0851574683713469\n",
      "Random Forest Classifier 0.6164000000000001\n",
      "Decision Tree Classifier 0.5519\n",
      "Gradient Boosting Classifier 0.6007000000000001\n",
      "AdaBoostClassifier 0.6029666666666667\n"
     ]
    }
   ],
   "source": [
    "for i in range(len(names0)):\n",
    "    print(names0[i],results0[i].mean())\n",
    "    "
   ]
  },
  {
   "cell_type": "code",
   "execution_count": 16,
   "id": "2614a22d",
   "metadata": {},
   "outputs": [],
   "source": [
    "#removing columns for less clutter\n",
    "rawData.drop(columns=['EDUCATION_graduate school','EDUCATION_high school','EDUCATION_other',\n",
    "                     'EDUCATION_university','SEX_male','SEX_female','AGE','MARRIAGE'], inplace =True, axis =1)"
   ]
  },
  {
   "cell_type": "code",
   "execution_count": 17,
   "id": "6844a82c",
   "metadata": {},
   "outputs": [
    {
     "name": "stdout",
     "output_type": "stream",
     "text": [
      "<class 'pandas.core.frame.DataFrame'>\n",
      "RangeIndex: 30000 entries, 0 to 29999\n",
      "Data columns (total 22 columns):\n",
      " #   Column                                  Non-Null Count  Dtype\n",
      "---  ------                                  --------------  -----\n",
      " 0   ID                                      30000 non-null  int64\n",
      " 1   LIMIT_BAL                               30000 non-null  int64\n",
      " 2   PAY_0                                   30000 non-null  int64\n",
      " 3   PAY_2                                   30000 non-null  int64\n",
      " 4   PAY_3                                   30000 non-null  int64\n",
      " 5   PAY_4                                   30000 non-null  int64\n",
      " 6   PAY_5                                   30000 non-null  int64\n",
      " 7   PAY_6                                   30000 non-null  int64\n",
      " 8   BILL_AMT1                               30000 non-null  int64\n",
      " 9   BILL_AMT2                               30000 non-null  int64\n",
      " 10  BILL_AMT3                               30000 non-null  int64\n",
      " 11  BILL_AMT4                               30000 non-null  int64\n",
      " 12  BILL_AMT5                               30000 non-null  int64\n",
      " 13  BILL_AMT6                               30000 non-null  int64\n",
      " 14  PAY_AMT1                                30000 non-null  int64\n",
      " 15  PAY_AMT2                                30000 non-null  int64\n",
      " 16  PAY_AMT3                                30000 non-null  int64\n",
      " 17  PAY_AMT4                                30000 non-null  int64\n",
      " 18  PAY_AMT5                                30000 non-null  int64\n",
      " 19  PAY_AMT6                                30000 non-null  int64\n",
      " 20  default payment next month_default      30000 non-null  uint8\n",
      " 21  default payment next month_not default  30000 non-null  uint8\n",
      "dtypes: int64(20), uint8(2)\n",
      "memory usage: 4.6 MB\n"
     ]
    }
   ],
   "source": [
    "rawData.info()"
   ]
  },
  {
   "cell_type": "code",
   "execution_count": 18,
   "id": "5da575c0",
   "metadata": {},
   "outputs": [
    {
     "name": "stdout",
     "output_type": "stream",
     "text": [
      "Summary of feature sample\n"
     ]
    },
    {
     "data": {
      "text/html": [
       "<div>\n",
       "<style scoped>\n",
       "    .dataframe tbody tr th:only-of-type {\n",
       "        vertical-align: middle;\n",
       "    }\n",
       "\n",
       "    .dataframe tbody tr th {\n",
       "        vertical-align: top;\n",
       "    }\n",
       "\n",
       "    .dataframe thead th {\n",
       "        text-align: right;\n",
       "    }\n",
       "</style>\n",
       "<table border=\"1\" class=\"dataframe\">\n",
       "  <thead>\n",
       "    <tr style=\"text-align: right;\">\n",
       "      <th></th>\n",
       "      <th>ID</th>\n",
       "      <th>LIMIT_BAL</th>\n",
       "      <th>PAY_0</th>\n",
       "      <th>PAY_2</th>\n",
       "      <th>PAY_3</th>\n",
       "      <th>PAY_4</th>\n",
       "      <th>PAY_5</th>\n",
       "      <th>PAY_6</th>\n",
       "      <th>BILL_AMT1</th>\n",
       "      <th>BILL_AMT2</th>\n",
       "      <th>BILL_AMT3</th>\n",
       "      <th>BILL_AMT4</th>\n",
       "      <th>BILL_AMT5</th>\n",
       "      <th>BILL_AMT6</th>\n",
       "      <th>PAY_AMT1</th>\n",
       "      <th>PAY_AMT2</th>\n",
       "      <th>PAY_AMT3</th>\n",
       "      <th>PAY_AMT4</th>\n",
       "      <th>PAY_AMT5</th>\n",
       "    </tr>\n",
       "  </thead>\n",
       "  <tbody>\n",
       "    <tr>\n",
       "      <th>0</th>\n",
       "      <td>1</td>\n",
       "      <td>20000</td>\n",
       "      <td>2</td>\n",
       "      <td>2</td>\n",
       "      <td>-1</td>\n",
       "      <td>-1</td>\n",
       "      <td>-2</td>\n",
       "      <td>-2</td>\n",
       "      <td>3913</td>\n",
       "      <td>3102</td>\n",
       "      <td>689</td>\n",
       "      <td>0</td>\n",
       "      <td>0</td>\n",
       "      <td>0</td>\n",
       "      <td>0</td>\n",
       "      <td>689</td>\n",
       "      <td>0</td>\n",
       "      <td>0</td>\n",
       "      <td>0</td>\n",
       "    </tr>\n",
       "    <tr>\n",
       "      <th>1</th>\n",
       "      <td>2</td>\n",
       "      <td>120000</td>\n",
       "      <td>-1</td>\n",
       "      <td>2</td>\n",
       "      <td>0</td>\n",
       "      <td>0</td>\n",
       "      <td>0</td>\n",
       "      <td>2</td>\n",
       "      <td>2682</td>\n",
       "      <td>1725</td>\n",
       "      <td>2682</td>\n",
       "      <td>3272</td>\n",
       "      <td>3455</td>\n",
       "      <td>3261</td>\n",
       "      <td>0</td>\n",
       "      <td>1000</td>\n",
       "      <td>1000</td>\n",
       "      <td>1000</td>\n",
       "      <td>0</td>\n",
       "    </tr>\n",
       "    <tr>\n",
       "      <th>2</th>\n",
       "      <td>3</td>\n",
       "      <td>90000</td>\n",
       "      <td>0</td>\n",
       "      <td>0</td>\n",
       "      <td>0</td>\n",
       "      <td>0</td>\n",
       "      <td>0</td>\n",
       "      <td>0</td>\n",
       "      <td>29239</td>\n",
       "      <td>14027</td>\n",
       "      <td>13559</td>\n",
       "      <td>14331</td>\n",
       "      <td>14948</td>\n",
       "      <td>15549</td>\n",
       "      <td>1518</td>\n",
       "      <td>1500</td>\n",
       "      <td>1000</td>\n",
       "      <td>1000</td>\n",
       "      <td>1000</td>\n",
       "    </tr>\n",
       "    <tr>\n",
       "      <th>3</th>\n",
       "      <td>4</td>\n",
       "      <td>50000</td>\n",
       "      <td>0</td>\n",
       "      <td>0</td>\n",
       "      <td>0</td>\n",
       "      <td>0</td>\n",
       "      <td>0</td>\n",
       "      <td>0</td>\n",
       "      <td>46990</td>\n",
       "      <td>48233</td>\n",
       "      <td>49291</td>\n",
       "      <td>28314</td>\n",
       "      <td>28959</td>\n",
       "      <td>29547</td>\n",
       "      <td>2000</td>\n",
       "      <td>2019</td>\n",
       "      <td>1200</td>\n",
       "      <td>1100</td>\n",
       "      <td>1069</td>\n",
       "    </tr>\n",
       "    <tr>\n",
       "      <th>4</th>\n",
       "      <td>5</td>\n",
       "      <td>50000</td>\n",
       "      <td>-1</td>\n",
       "      <td>0</td>\n",
       "      <td>-1</td>\n",
       "      <td>0</td>\n",
       "      <td>0</td>\n",
       "      <td>0</td>\n",
       "      <td>8617</td>\n",
       "      <td>5670</td>\n",
       "      <td>35835</td>\n",
       "      <td>20940</td>\n",
       "      <td>19146</td>\n",
       "      <td>19131</td>\n",
       "      <td>2000</td>\n",
       "      <td>36681</td>\n",
       "      <td>10000</td>\n",
       "      <td>9000</td>\n",
       "      <td>689</td>\n",
       "    </tr>\n",
       "  </tbody>\n",
       "</table>\n",
       "</div>"
      ],
      "text/plain": [
       "   ID  LIMIT_BAL  PAY_0  PAY_2  PAY_3  PAY_4  PAY_5  PAY_6  BILL_AMT1  \\\n",
       "0   1      20000      2      2     -1     -1     -2     -2       3913   \n",
       "1   2     120000     -1      2      0      0      0      2       2682   \n",
       "2   3      90000      0      0      0      0      0      0      29239   \n",
       "3   4      50000      0      0      0      0      0      0      46990   \n",
       "4   5      50000     -1      0     -1      0      0      0       8617   \n",
       "\n",
       "   BILL_AMT2  BILL_AMT3  BILL_AMT4  BILL_AMT5  BILL_AMT6  PAY_AMT1  PAY_AMT2  \\\n",
       "0       3102        689          0          0          0         0       689   \n",
       "1       1725       2682       3272       3455       3261         0      1000   \n",
       "2      14027      13559      14331      14948      15549      1518      1500   \n",
       "3      48233      49291      28314      28959      29547      2000      2019   \n",
       "4       5670      35835      20940      19146      19131      2000     36681   \n",
       "\n",
       "   PAY_AMT3  PAY_AMT4  PAY_AMT5  \n",
       "0         0         0         0  \n",
       "1      1000      1000         0  \n",
       "2      1000      1000      1000  \n",
       "3      1200      1100      1069  \n",
       "4     10000      9000       689  "
      ]
     },
     "execution_count": 18,
     "metadata": {},
     "output_type": "execute_result"
    }
   ],
   "source": [
    "#Testing regression and classification models for default payment as as the dependent variable\n",
    "#after removing some columns\n",
    "X = rawData.iloc[:,0:19]\n",
    "print('Summary of feature sample')\n",
    "X.head()"
   ]
  },
  {
   "cell_type": "code",
   "execution_count": 19,
   "id": "0ad5b170",
   "metadata": {},
   "outputs": [],
   "source": [
    "y=rawData['default payment next month_default']"
   ]
  },
  {
   "cell_type": "code",
   "execution_count": 20,
   "id": "8cd87f20",
   "metadata": {},
   "outputs": [
    {
     "name": "stdout",
     "output_type": "stream",
     "text": [
      "0        1\n",
      "1        1\n",
      "2        0\n",
      "3        0\n",
      "4        0\n",
      "        ..\n",
      "29995    0\n",
      "29996    0\n",
      "29997    1\n",
      "29998    1\n",
      "29999    1\n",
      "Name: default payment next month_default, Length: 30000, dtype: uint8\n"
     ]
    }
   ],
   "source": [
    "print(y)"
   ]
  },
  {
   "cell_type": "code",
   "execution_count": 21,
   "id": "75ce9438",
   "metadata": {},
   "outputs": [],
   "source": [
    "#the regression model \n",
    "model = LinearRegression(n_jobs=10)"
   ]
  },
  {
   "cell_type": "code",
   "execution_count": 22,
   "id": "764d5561",
   "metadata": {},
   "outputs": [],
   "source": [
    "#the classification model from course 1 task 2\n",
    "X_train, X_test, y_train, y_test = train_test_split(X, y, test_size = .30, random_state = 123)\n",
    "algo = DecisionTreeClassifier()\n",
    "model1 = algo.fit(X_train,y_train)"
   ]
  },
  {
   "cell_type": "code",
   "execution_count": 23,
   "id": "bf18e352",
   "metadata": {},
   "outputs": [
    {
     "name": "stdout",
     "output_type": "stream",
     "text": [
      "[0.10246194 0.1308356  0.12065829]\n"
     ]
    }
   ],
   "source": [
    "print(cross_val_score(model, X, y, cv=3)) "
   ]
  },
  {
   "cell_type": "code",
   "execution_count": 24,
   "id": "2692b12c",
   "metadata": {},
   "outputs": [
    {
     "name": "stdout",
     "output_type": "stream",
     "text": [
      "[0.72471429 0.72857143 0.71642857]\n"
     ]
    }
   ],
   "source": [
    "print(cross_val_score(model1, X_train, y_train, cv=3)) "
   ]
  },
  {
   "cell_type": "code",
   "execution_count": 25,
   "id": "447d4c97",
   "metadata": {},
   "outputs": [],
   "source": [
    "#choosing the right model by testing different results\n",
    "algosClass = []\n",
    "\n",
    "algosClass.append(('Random Forest Regressor',RandomForestRegressor()))\n",
    "\n",
    "algosClass.append(('Linear Regression',LinearRegression()))\n",
    "\n",
    "algosClass.append(('Support Vector Regression',SVR()))\n",
    "\n",
    "algosClass1 = []\n",
    "algosClass1.append(('Random Forest Classifier', RandomForestClassifier()))\n",
    "algosClass1.append(('Decision Tree Classifier', DecisionTreeClassifier()))\n",
    "algosClass1.append(('Gradient Boosting Classifier', GradientBoostingClassifier()))\n",
    "algosClass1.append(('AdaBoostClassifier',AdaBoostClassifier()))\n",
    "\n"
   ]
  },
  {
   "cell_type": "code",
   "execution_count": 26,
   "id": "93dccd00",
   "metadata": {},
   "outputs": [],
   "source": [
    "results = []\n",
    "names = []\n",
    "\n",
    "results1 = []\n",
    "names1 = []\n",
    "for name, model in algosClass:\n",
    "    result = cross_val_score(model, X,y, cv=3, scoring='r2')\n",
    "    names.append(name)\n",
    "    results.append(result)\n",
    "    \n",
    "for name1, model1 in algosClass1:\n",
    "    result1 = cross_val_score(model1, X,y, cv=3, scoring='accuracy')\n",
    "    names.append(name1)\n",
    "    results.append(result1)    "
   ]
  },
  {
   "cell_type": "code",
   "execution_count": 27,
   "id": "c77025a9",
   "metadata": {},
   "outputs": [
    {
     "name": "stdout",
     "output_type": "stream",
     "text": [
      "Random Forest Regressor 0.0869322926031797\n",
      "Linear Regression 0.11798527468507754\n",
      "Support Vector Regression -0.0853667463741475\n",
      "Random Forest Classifier 0.6140333333333333\n",
      "Decision Tree Classifier 0.5469333333333334\n",
      "Gradient Boosting Classifier 0.5999\n",
      "AdaBoostClassifier 0.6016333333333334\n"
     ]
    }
   ],
   "source": [
    "for i in range(len(names)):\n",
    "    print(names[i],results[i].mean())\n",
    "    \n"
   ]
  },
  {
   "cell_type": "code",
   "execution_count": 28,
   "id": "7f2cd23b",
   "metadata": {},
   "outputs": [
    {
     "name": "stdout",
     "output_type": "stream",
     "text": [
      "Summary of feature sample\n"
     ]
    },
    {
     "data": {
      "text/html": [
       "<div>\n",
       "<style scoped>\n",
       "    .dataframe tbody tr th:only-of-type {\n",
       "        vertical-align: middle;\n",
       "    }\n",
       "\n",
       "    .dataframe tbody tr th {\n",
       "        vertical-align: top;\n",
       "    }\n",
       "\n",
       "    .dataframe thead th {\n",
       "        text-align: right;\n",
       "    }\n",
       "</style>\n",
       "<table border=\"1\" class=\"dataframe\">\n",
       "  <thead>\n",
       "    <tr style=\"text-align: right;\">\n",
       "      <th></th>\n",
       "      <th>PAY_0</th>\n",
       "      <th>PAY_2</th>\n",
       "      <th>PAY_3</th>\n",
       "      <th>PAY_4</th>\n",
       "      <th>PAY_5</th>\n",
       "      <th>PAY_6</th>\n",
       "      <th>BILL_AMT1</th>\n",
       "      <th>BILL_AMT2</th>\n",
       "      <th>BILL_AMT3</th>\n",
       "      <th>BILL_AMT4</th>\n",
       "      <th>BILL_AMT5</th>\n",
       "      <th>BILL_AMT6</th>\n",
       "      <th>PAY_AMT1</th>\n",
       "      <th>PAY_AMT2</th>\n",
       "      <th>PAY_AMT3</th>\n",
       "      <th>PAY_AMT4</th>\n",
       "      <th>PAY_AMT5</th>\n",
       "      <th>PAY_AMT6</th>\n",
       "      <th>default payment next month_default</th>\n",
       "      <th>default payment next month_not default</th>\n",
       "    </tr>\n",
       "  </thead>\n",
       "  <tbody>\n",
       "    <tr>\n",
       "      <th>0</th>\n",
       "      <td>2</td>\n",
       "      <td>2</td>\n",
       "      <td>-1</td>\n",
       "      <td>-1</td>\n",
       "      <td>-2</td>\n",
       "      <td>-2</td>\n",
       "      <td>3913</td>\n",
       "      <td>3102</td>\n",
       "      <td>689</td>\n",
       "      <td>0</td>\n",
       "      <td>0</td>\n",
       "      <td>0</td>\n",
       "      <td>0</td>\n",
       "      <td>689</td>\n",
       "      <td>0</td>\n",
       "      <td>0</td>\n",
       "      <td>0</td>\n",
       "      <td>0</td>\n",
       "      <td>1</td>\n",
       "      <td>0</td>\n",
       "    </tr>\n",
       "    <tr>\n",
       "      <th>1</th>\n",
       "      <td>-1</td>\n",
       "      <td>2</td>\n",
       "      <td>0</td>\n",
       "      <td>0</td>\n",
       "      <td>0</td>\n",
       "      <td>2</td>\n",
       "      <td>2682</td>\n",
       "      <td>1725</td>\n",
       "      <td>2682</td>\n",
       "      <td>3272</td>\n",
       "      <td>3455</td>\n",
       "      <td>3261</td>\n",
       "      <td>0</td>\n",
       "      <td>1000</td>\n",
       "      <td>1000</td>\n",
       "      <td>1000</td>\n",
       "      <td>0</td>\n",
       "      <td>2000</td>\n",
       "      <td>1</td>\n",
       "      <td>0</td>\n",
       "    </tr>\n",
       "    <tr>\n",
       "      <th>2</th>\n",
       "      <td>0</td>\n",
       "      <td>0</td>\n",
       "      <td>0</td>\n",
       "      <td>0</td>\n",
       "      <td>0</td>\n",
       "      <td>0</td>\n",
       "      <td>29239</td>\n",
       "      <td>14027</td>\n",
       "      <td>13559</td>\n",
       "      <td>14331</td>\n",
       "      <td>14948</td>\n",
       "      <td>15549</td>\n",
       "      <td>1518</td>\n",
       "      <td>1500</td>\n",
       "      <td>1000</td>\n",
       "      <td>1000</td>\n",
       "      <td>1000</td>\n",
       "      <td>5000</td>\n",
       "      <td>0</td>\n",
       "      <td>1</td>\n",
       "    </tr>\n",
       "    <tr>\n",
       "      <th>3</th>\n",
       "      <td>0</td>\n",
       "      <td>0</td>\n",
       "      <td>0</td>\n",
       "      <td>0</td>\n",
       "      <td>0</td>\n",
       "      <td>0</td>\n",
       "      <td>46990</td>\n",
       "      <td>48233</td>\n",
       "      <td>49291</td>\n",
       "      <td>28314</td>\n",
       "      <td>28959</td>\n",
       "      <td>29547</td>\n",
       "      <td>2000</td>\n",
       "      <td>2019</td>\n",
       "      <td>1200</td>\n",
       "      <td>1100</td>\n",
       "      <td>1069</td>\n",
       "      <td>1000</td>\n",
       "      <td>0</td>\n",
       "      <td>1</td>\n",
       "    </tr>\n",
       "    <tr>\n",
       "      <th>4</th>\n",
       "      <td>-1</td>\n",
       "      <td>0</td>\n",
       "      <td>-1</td>\n",
       "      <td>0</td>\n",
       "      <td>0</td>\n",
       "      <td>0</td>\n",
       "      <td>8617</td>\n",
       "      <td>5670</td>\n",
       "      <td>35835</td>\n",
       "      <td>20940</td>\n",
       "      <td>19146</td>\n",
       "      <td>19131</td>\n",
       "      <td>2000</td>\n",
       "      <td>36681</td>\n",
       "      <td>10000</td>\n",
       "      <td>9000</td>\n",
       "      <td>689</td>\n",
       "      <td>679</td>\n",
       "      <td>0</td>\n",
       "      <td>1</td>\n",
       "    </tr>\n",
       "  </tbody>\n",
       "</table>\n",
       "</div>"
      ],
      "text/plain": [
       "   PAY_0  PAY_2  PAY_3  PAY_4  PAY_5  PAY_6  BILL_AMT1  BILL_AMT2  BILL_AMT3  \\\n",
       "0      2      2     -1     -1     -2     -2       3913       3102        689   \n",
       "1     -1      2      0      0      0      2       2682       1725       2682   \n",
       "2      0      0      0      0      0      0      29239      14027      13559   \n",
       "3      0      0      0      0      0      0      46990      48233      49291   \n",
       "4     -1      0     -1      0      0      0       8617       5670      35835   \n",
       "\n",
       "   BILL_AMT4  BILL_AMT5  BILL_AMT6  PAY_AMT1  PAY_AMT2  PAY_AMT3  PAY_AMT4  \\\n",
       "0          0          0          0         0       689         0         0   \n",
       "1       3272       3455       3261         0      1000      1000      1000   \n",
       "2      14331      14948      15549      1518      1500      1000      1000   \n",
       "3      28314      28959      29547      2000      2019      1200      1100   \n",
       "4      20940      19146      19131      2000     36681     10000      9000   \n",
       "\n",
       "   PAY_AMT5  PAY_AMT6  default payment next month_default  \\\n",
       "0         0         0                                   1   \n",
       "1         0      2000                                   1   \n",
       "2      1000      5000                                   0   \n",
       "3      1069      1000                                   0   \n",
       "4       689       679                                   0   \n",
       "\n",
       "   default payment next month_not default  \n",
       "0                                       0  \n",
       "1                                       0  \n",
       "2                                       1  \n",
       "3                                       1  \n",
       "4                                       1  "
      ]
     },
     "execution_count": 28,
     "metadata": {},
     "output_type": "execute_result"
    }
   ],
   "source": [
    "#Testing regression models with Limit Balance as the dependent variable\n",
    "X1 = rawData[['PAY_0','PAY_2','PAY_3','PAY_4','PAY_5','PAY_6','BILL_AMT1','BILL_AMT2','BILL_AMT3','BILL_AMT4','BILL_AMT5'\n",
    "            ,'BILL_AMT6','PAY_AMT1','PAY_AMT2','PAY_AMT3','PAY_AMT4','PAY_AMT5','PAY_AMT6','default payment next month_default'\n",
    "            ,'default payment next month_not default']]\n",
    "print('Summary of feature sample')\n",
    "X1.head()"
   ]
  },
  {
   "cell_type": "code",
   "execution_count": 29,
   "id": "a0e020b6",
   "metadata": {},
   "outputs": [],
   "source": [
    "y1= rawData['LIMIT_BAL']"
   ]
  },
  {
   "cell_type": "code",
   "execution_count": 30,
   "id": "8c9d0793",
   "metadata": {},
   "outputs": [
    {
     "name": "stdout",
     "output_type": "stream",
     "text": [
      "0         20000\n",
      "1        120000\n",
      "2         90000\n",
      "3         50000\n",
      "4         50000\n",
      "          ...  \n",
      "29995    220000\n",
      "29996    150000\n",
      "29997     30000\n",
      "29998     80000\n",
      "29999     50000\n",
      "Name: LIMIT_BAL, Length: 30000, dtype: int64\n"
     ]
    }
   ],
   "source": [
    "print(y1)"
   ]
  },
  {
   "cell_type": "code",
   "execution_count": 31,
   "id": "ba9c74c0",
   "metadata": {},
   "outputs": [
    {
     "data": {
      "text/plain": [
       "0.31304169591963316"
      ]
     },
     "execution_count": 31,
     "metadata": {},
     "output_type": "execute_result"
    }
   ],
   "source": [
    "model2 = LinearRegression(n_jobs=10).fit(X1,y1)\n",
    "model2.score(X1,y1)\n",
    "\n",
    "#X1_train, X1_test, y1_train, y1_test = train_test_split(X1, y1, test_size = .30, random_state = 123)\n",
    "#algo2 = DecisionTreeClassifier()\n",
    "#model22 = algo2.fit(X1_train,y1_train)\n",
    "#model22= DecisionTreeClassifier()"
   ]
  },
  {
   "cell_type": "code",
   "execution_count": 32,
   "id": "e790a6a2",
   "metadata": {},
   "outputs": [],
   "source": [
    "#Testing different models\n",
    "algosClass2 = []\n",
    "\n",
    "algosClass2.append(('Random Forest Regressor',RandomForestRegressor()))\n",
    "\n",
    "algosClass2.append(('Linear Regression',LinearRegression()))\n",
    "\n",
    "algosClass2.append(('Support Vector Regression',SVR()))\n",
    "\n",
    "#algosClass22 = []\n",
    "#algosClass22.append(('Random Forest Classifier', RandomForestClassifier()))\n",
    "#algosClass22.append(('Decision Tree Classifier', DecisionTreeClassifier()))\n",
    "#algosClass22.append(('Gradient Boosting Classifier', GradientBoostingClassifier()))\n",
    "#algosClass22.append(('AdaBoostClassifier',AdaBoostClassifier()))"
   ]
  },
  {
   "cell_type": "code",
   "execution_count": 33,
   "id": "3912816f",
   "metadata": {},
   "outputs": [],
   "source": [
    "results2 = []\n",
    "names2 = []\n",
    "\n",
    "#results22 = []\n",
    "#names22 = []\n",
    "\n",
    "for name, model2 in algosClass2:\n",
    "    result2 = cross_val_score(model2, X1,y1, cv=3, scoring='r2')\n",
    "    names2.append(name)\n",
    "    results2.append(result2)\n",
    "    \n",
    "#for name, model22 in algosClass22:\n",
    "#   result22 = cross_val_score(model22, X1,y1, cv=3, scoring='accuracy')\n",
    "#   names22.append(name)\n",
    "#    results22.append(result22)   "
   ]
  },
  {
   "cell_type": "code",
   "execution_count": 34,
   "id": "cedb5d8a",
   "metadata": {},
   "outputs": [
    {
     "name": "stdout",
     "output_type": "stream",
     "text": [
      "Random Forest Regressor 0.4117158774707552\n",
      "Linear Regression 0.30278768143658047\n",
      "Support Vector Regression -0.050319849599297584\n"
     ]
    }
   ],
   "source": [
    "for i in range(len(names2)):\n",
    "    print(names2[i],results2[i].mean())"
   ]
  },
  {
   "cell_type": "code",
   "execution_count": 35,
   "id": "f15e2353",
   "metadata": {},
   "outputs": [
    {
     "name": "stdout",
     "output_type": "stream",
     "text": [
      "140000.0\n",
      "1000000\n"
     ]
    }
   ],
   "source": [
    "#binning limit balance and using that as the dependent variable\n",
    "print (np.median(rawData['LIMIT_BAL']))\n",
    "print (np.max(rawData['LIMIT_BAL']))"
   ]
  },
  {
   "cell_type": "code",
   "execution_count": 36,
   "id": "bc3c9369",
   "metadata": {},
   "outputs": [],
   "source": [
    "plt.hist(rawData['LIMIT_BAL'])\n",
    "plt.show()"
   ]
  },
  {
   "cell_type": "code",
   "execution_count": 37,
   "id": "af21d9fc",
   "metadata": {},
   "outputs": [],
   "source": [
    "#trying a few bins just to see accuracy\n",
    "lim_array = (0,150000,1000000)"
   ]
  },
  {
   "cell_type": "code",
   "execution_count": 38,
   "id": "b9695d7a",
   "metadata": {},
   "outputs": [
    {
     "name": "stdout",
     "output_type": "stream",
     "text": [
      "<class 'pandas.core.frame.DataFrame'>\n",
      "RangeIndex: 30000 entries, 0 to 29999\n",
      "Data columns (total 23 columns):\n",
      " #   Column                                  Non-Null Count  Dtype\n",
      "---  ------                                  --------------  -----\n",
      " 0   ID                                      30000 non-null  int64\n",
      " 1   LIMIT_BAL                               30000 non-null  int64\n",
      " 2   PAY_0                                   30000 non-null  int64\n",
      " 3   PAY_2                                   30000 non-null  int64\n",
      " 4   PAY_3                                   30000 non-null  int64\n",
      " 5   PAY_4                                   30000 non-null  int64\n",
      " 6   PAY_5                                   30000 non-null  int64\n",
      " 7   PAY_6                                   30000 non-null  int64\n",
      " 8   BILL_AMT1                               30000 non-null  int64\n",
      " 9   BILL_AMT2                               30000 non-null  int64\n",
      " 10  BILL_AMT3                               30000 non-null  int64\n",
      " 11  BILL_AMT4                               30000 non-null  int64\n",
      " 12  BILL_AMT5                               30000 non-null  int64\n",
      " 13  BILL_AMT6                               30000 non-null  int64\n",
      " 14  PAY_AMT1                                30000 non-null  int64\n",
      " 15  PAY_AMT2                                30000 non-null  int64\n",
      " 16  PAY_AMT3                                30000 non-null  int64\n",
      " 17  PAY_AMT4                                30000 non-null  int64\n",
      " 18  PAY_AMT5                                30000 non-null  int64\n",
      " 19  PAY_AMT6                                30000 non-null  int64\n",
      " 20  default payment next month_default      30000 non-null  uint8\n",
      " 21  default payment next month_not default  30000 non-null  uint8\n",
      " 22  lim_array                               30000 non-null  int64\n",
      "dtypes: int64(21), uint8(2)\n",
      "memory usage: 4.9 MB\n"
     ]
    }
   ],
   "source": [
    "rawData['lim_array'] = pd.cut(rawData['LIMIT_BAL'],lim_array,labels = False )\n",
    "rawData.info()"
   ]
  },
  {
   "cell_type": "code",
   "execution_count": 39,
   "id": "18dd38e3",
   "metadata": {},
   "outputs": [
    {
     "name": "stdout",
     "output_type": "stream",
     "text": [
      "Summary of feature sample\n"
     ]
    },
    {
     "data": {
      "text/html": [
       "<div>\n",
       "<style scoped>\n",
       "    .dataframe tbody tr th:only-of-type {\n",
       "        vertical-align: middle;\n",
       "    }\n",
       "\n",
       "    .dataframe tbody tr th {\n",
       "        vertical-align: top;\n",
       "    }\n",
       "\n",
       "    .dataframe thead th {\n",
       "        text-align: right;\n",
       "    }\n",
       "</style>\n",
       "<table border=\"1\" class=\"dataframe\">\n",
       "  <thead>\n",
       "    <tr style=\"text-align: right;\">\n",
       "      <th></th>\n",
       "      <th>PAY_0</th>\n",
       "      <th>PAY_2</th>\n",
       "      <th>PAY_3</th>\n",
       "      <th>PAY_4</th>\n",
       "      <th>PAY_5</th>\n",
       "      <th>PAY_6</th>\n",
       "      <th>BILL_AMT1</th>\n",
       "      <th>BILL_AMT2</th>\n",
       "      <th>BILL_AMT3</th>\n",
       "      <th>BILL_AMT4</th>\n",
       "      <th>BILL_AMT5</th>\n",
       "      <th>BILL_AMT6</th>\n",
       "      <th>PAY_AMT1</th>\n",
       "      <th>PAY_AMT2</th>\n",
       "      <th>PAY_AMT3</th>\n",
       "      <th>PAY_AMT4</th>\n",
       "      <th>PAY_AMT5</th>\n",
       "      <th>PAY_AMT6</th>\n",
       "      <th>default payment next month_default</th>\n",
       "      <th>default payment next month_not default</th>\n",
       "    </tr>\n",
       "  </thead>\n",
       "  <tbody>\n",
       "    <tr>\n",
       "      <th>0</th>\n",
       "      <td>2</td>\n",
       "      <td>2</td>\n",
       "      <td>-1</td>\n",
       "      <td>-1</td>\n",
       "      <td>-2</td>\n",
       "      <td>-2</td>\n",
       "      <td>3913</td>\n",
       "      <td>3102</td>\n",
       "      <td>689</td>\n",
       "      <td>0</td>\n",
       "      <td>0</td>\n",
       "      <td>0</td>\n",
       "      <td>0</td>\n",
       "      <td>689</td>\n",
       "      <td>0</td>\n",
       "      <td>0</td>\n",
       "      <td>0</td>\n",
       "      <td>0</td>\n",
       "      <td>1</td>\n",
       "      <td>0</td>\n",
       "    </tr>\n",
       "    <tr>\n",
       "      <th>1</th>\n",
       "      <td>-1</td>\n",
       "      <td>2</td>\n",
       "      <td>0</td>\n",
       "      <td>0</td>\n",
       "      <td>0</td>\n",
       "      <td>2</td>\n",
       "      <td>2682</td>\n",
       "      <td>1725</td>\n",
       "      <td>2682</td>\n",
       "      <td>3272</td>\n",
       "      <td>3455</td>\n",
       "      <td>3261</td>\n",
       "      <td>0</td>\n",
       "      <td>1000</td>\n",
       "      <td>1000</td>\n",
       "      <td>1000</td>\n",
       "      <td>0</td>\n",
       "      <td>2000</td>\n",
       "      <td>1</td>\n",
       "      <td>0</td>\n",
       "    </tr>\n",
       "    <tr>\n",
       "      <th>2</th>\n",
       "      <td>0</td>\n",
       "      <td>0</td>\n",
       "      <td>0</td>\n",
       "      <td>0</td>\n",
       "      <td>0</td>\n",
       "      <td>0</td>\n",
       "      <td>29239</td>\n",
       "      <td>14027</td>\n",
       "      <td>13559</td>\n",
       "      <td>14331</td>\n",
       "      <td>14948</td>\n",
       "      <td>15549</td>\n",
       "      <td>1518</td>\n",
       "      <td>1500</td>\n",
       "      <td>1000</td>\n",
       "      <td>1000</td>\n",
       "      <td>1000</td>\n",
       "      <td>5000</td>\n",
       "      <td>0</td>\n",
       "      <td>1</td>\n",
       "    </tr>\n",
       "    <tr>\n",
       "      <th>3</th>\n",
       "      <td>0</td>\n",
       "      <td>0</td>\n",
       "      <td>0</td>\n",
       "      <td>0</td>\n",
       "      <td>0</td>\n",
       "      <td>0</td>\n",
       "      <td>46990</td>\n",
       "      <td>48233</td>\n",
       "      <td>49291</td>\n",
       "      <td>28314</td>\n",
       "      <td>28959</td>\n",
       "      <td>29547</td>\n",
       "      <td>2000</td>\n",
       "      <td>2019</td>\n",
       "      <td>1200</td>\n",
       "      <td>1100</td>\n",
       "      <td>1069</td>\n",
       "      <td>1000</td>\n",
       "      <td>0</td>\n",
       "      <td>1</td>\n",
       "    </tr>\n",
       "    <tr>\n",
       "      <th>4</th>\n",
       "      <td>-1</td>\n",
       "      <td>0</td>\n",
       "      <td>-1</td>\n",
       "      <td>0</td>\n",
       "      <td>0</td>\n",
       "      <td>0</td>\n",
       "      <td>8617</td>\n",
       "      <td>5670</td>\n",
       "      <td>35835</td>\n",
       "      <td>20940</td>\n",
       "      <td>19146</td>\n",
       "      <td>19131</td>\n",
       "      <td>2000</td>\n",
       "      <td>36681</td>\n",
       "      <td>10000</td>\n",
       "      <td>9000</td>\n",
       "      <td>689</td>\n",
       "      <td>679</td>\n",
       "      <td>0</td>\n",
       "      <td>1</td>\n",
       "    </tr>\n",
       "  </tbody>\n",
       "</table>\n",
       "</div>"
      ],
      "text/plain": [
       "   PAY_0  PAY_2  PAY_3  PAY_4  PAY_5  PAY_6  BILL_AMT1  BILL_AMT2  BILL_AMT3  \\\n",
       "0      2      2     -1     -1     -2     -2       3913       3102        689   \n",
       "1     -1      2      0      0      0      2       2682       1725       2682   \n",
       "2      0      0      0      0      0      0      29239      14027      13559   \n",
       "3      0      0      0      0      0      0      46990      48233      49291   \n",
       "4     -1      0     -1      0      0      0       8617       5670      35835   \n",
       "\n",
       "   BILL_AMT4  BILL_AMT5  BILL_AMT6  PAY_AMT1  PAY_AMT2  PAY_AMT3  PAY_AMT4  \\\n",
       "0          0          0          0         0       689         0         0   \n",
       "1       3272       3455       3261         0      1000      1000      1000   \n",
       "2      14331      14948      15549      1518      1500      1000      1000   \n",
       "3      28314      28959      29547      2000      2019      1200      1100   \n",
       "4      20940      19146      19131      2000     36681     10000      9000   \n",
       "\n",
       "   PAY_AMT5  PAY_AMT6  default payment next month_default  \\\n",
       "0         0         0                                   1   \n",
       "1         0      2000                                   1   \n",
       "2      1000      5000                                   0   \n",
       "3      1069      1000                                   0   \n",
       "4       689       679                                   0   \n",
       "\n",
       "   default payment next month_not default  \n",
       "0                                       0  \n",
       "1                                       0  \n",
       "2                                       1  \n",
       "3                                       1  \n",
       "4                                       1  "
      ]
     },
     "execution_count": 39,
     "metadata": {},
     "output_type": "execute_result"
    }
   ],
   "source": [
    "X2=rawData[['PAY_0','PAY_2','PAY_3','PAY_4','PAY_5','PAY_6','BILL_AMT1','BILL_AMT2','BILL_AMT3','BILL_AMT4','BILL_AMT5'\n",
    "            ,'BILL_AMT6','PAY_AMT1','PAY_AMT2','PAY_AMT3','PAY_AMT4','PAY_AMT5','PAY_AMT6','default payment next month_default'\n",
    "            ,'default payment next month_not default']]\n",
    "print('Summary of feature sample')\n",
    "X2.head()"
   ]
  },
  {
   "cell_type": "code",
   "execution_count": 40,
   "id": "ca209a55",
   "metadata": {},
   "outputs": [
    {
     "name": "stdout",
     "output_type": "stream",
     "text": [
      "0        0\n",
      "1        0\n",
      "2        0\n",
      "3        0\n",
      "4        0\n",
      "        ..\n",
      "29995    1\n",
      "29996    0\n",
      "29997    0\n",
      "29998    0\n",
      "29999    0\n",
      "Name: lim_array, Length: 30000, dtype: int64\n"
     ]
    }
   ],
   "source": [
    "y2=rawData['lim_array']\n",
    "print(y2)"
   ]
  },
  {
   "cell_type": "code",
   "execution_count": 41,
   "id": "9d42aae1",
   "metadata": {},
   "outputs": [],
   "source": [
    "#the population looks similar ~16k and ~14k at each bin\n",
    "plt.hist(rawData['lim_array'])\n",
    "plt.show()"
   ]
  },
  {
   "cell_type": "code",
   "execution_count": 42,
   "id": "41910c62",
   "metadata": {},
   "outputs": [
    {
     "data": {
      "text/plain": [
       "0.23426154770879004"
      ]
     },
     "execution_count": 42,
     "metadata": {},
     "output_type": "execute_result"
    }
   ],
   "source": [
    "model3 = LinearRegression(n_jobs=10).fit(X2,y2)\n",
    "model3.score(X2,y2)"
   ]
  },
  {
   "cell_type": "code",
   "execution_count": 43,
   "id": "e5561dea",
   "metadata": {},
   "outputs": [],
   "source": [
    "algosClass3 = []\n",
    "\n",
    "algosClass3.append(('Random Forest Regressor',RandomForestRegressor()))\n",
    "\n",
    "algosClass3.append(('Linear Regression',LinearRegression()))\n",
    "\n",
    "algosClass3.append(('Support Vector Regression',SVR()))\n"
   ]
  },
  {
   "cell_type": "code",
   "execution_count": 44,
   "id": "49d4bcfe",
   "metadata": {},
   "outputs": [],
   "source": [
    "results3 = []\n",
    "names3 = []\n",
    "for name3, model3 in algosClass3:\n",
    "    result3 = cross_val_score(model3, X2,y2, cv=3, scoring='r2')\n",
    "    names3.append(name3)\n",
    "    results3.append(result3)\n",
    "    \n"
   ]
  },
  {
   "cell_type": "code",
   "execution_count": 45,
   "id": "7ca12892",
   "metadata": {},
   "outputs": [
    {
     "name": "stdout",
     "output_type": "stream",
     "text": [
      "Random Forest Regressor 0.3669299058950351\n",
      "Linear Regression 0.22713826779689747\n",
      "Support Vector Regression 0.2013340076888959\n"
     ]
    }
   ],
   "source": [
    "for i in range(len(names3)):\n",
    "    print(names3[i],results3[i].mean())        "
   ]
  },
  {
   "cell_type": "code",
   "execution_count": 46,
   "id": "4ef1109e",
   "metadata": {},
   "outputs": [],
   "source": [
    "#Highest score was RandomForest Regressor for the regression models\n",
    "#Limit bal was the dependent variable\n",
    "algo=RandomForestRegressor()"
   ]
  },
  {
   "cell_type": "code",
   "execution_count": 47,
   "id": "c87f28e9",
   "metadata": {},
   "outputs": [],
   "source": [
    "#Train/Test Split \n",
    "X_train, X_test, y_train, y_test = train_test_split(X1, y1, test_size = .30, random_state = 123)"
   ]
  },
  {
   "cell_type": "code",
   "execution_count": 48,
   "id": "f86b35ad",
   "metadata": {},
   "outputs": [],
   "source": [
    "model = algo.fit(X_train,y_train)"
   ]
  },
  {
   "cell_type": "code",
   "execution_count": 49,
   "id": "fa443dfe",
   "metadata": {},
   "outputs": [],
   "source": [
    "predictions = model.predict(X_test)"
   ]
  },
  {
   "cell_type": "code",
   "execution_count": 50,
   "id": "7ee057b6",
   "metadata": {},
   "outputs": [],
   "source": [
    "rmse = sqrt(mean_squared_error(y_test, predictions))"
   ]
  },
  {
   "cell_type": "code",
   "execution_count": 51,
   "id": "e5f9555c",
   "metadata": {},
   "outputs": [],
   "source": [
    "predRsquared = r2_score(y_test,predictions)"
   ]
  },
  {
   "cell_type": "code",
   "execution_count": 52,
   "id": "888b6c86",
   "metadata": {},
   "outputs": [
    {
     "name": "stdout",
     "output_type": "stream",
     "text": [
      "R Squared: 0.408\n",
      "RMSE: 99017.353\n"
     ]
    }
   ],
   "source": [
    "#Make Predictions\n",
    "predictions = model.predict(X_test)\n",
    "predRsquared = r2_score(y_test,predictions)\n",
    "rmse = sqrt(mean_squared_error(y_test, predictions))\n",
    "print('R Squared: %.3f' % predRsquared)\n",
    "print('RMSE: %.3f' % rmse)"
   ]
  },
  {
   "cell_type": "code",
   "execution_count": 53,
   "id": "e4849d04",
   "metadata": {},
   "outputs": [],
   "source": [
    "plt.scatter(y_test, predictions, alpha = 0.5)\n",
    "plt.xlabel('Ground Truth')\n",
    "plt.ylabel('Predictions')\n",
    "plt.show();"
   ]
  },
  {
   "cell_type": "code",
   "execution_count": 78,
   "id": "2ae62775",
   "metadata": {},
   "outputs": [
    {
     "data": {
      "text/plain": [
       "RandomForestRegressor()"
      ]
     },
     "execution_count": 78,
     "metadata": {},
     "output_type": "execute_result"
    }
   ],
   "source": [
    "X1_train, X1_test, y1_train, y1_test = train_test_split(X1, y1, test_size = .30, random_state = 123)\n",
    "\n",
    "rf = RandomForestRegressor(n_estimators=100)\n",
    "rf.fit(X1_train, y1_train)"
   ]
  },
  {
   "cell_type": "code",
   "execution_count": 59,
   "id": "ab68e695",
   "metadata": {},
   "outputs": [],
   "source": [
    "#feature_names = [f\"feature {i}\" for i in range(X.shape[1])]"
   ]
  },
  {
   "cell_type": "code",
   "execution_count": 77,
   "id": "c653eda0",
   "metadata": {},
   "outputs": [],
   "source": [
    "plt.barh(chartlabels.columns,rf.feature_importances_)\n",
    "plt.show()"
   ]
  },
  {
   "cell_type": "code",
   "execution_count": 64,
   "id": "4ff594d6",
   "metadata": {},
   "outputs": [
    {
     "data": {
      "text/plain": [
       "array([0.0176879 , 0.08056705, 0.01986447, 0.00770594, 0.00606684,\n",
       "       0.00912771, 0.12045823, 0.04849996, 0.04572476, 0.04224037,\n",
       "       0.05297968, 0.0534747 , 0.05640814, 0.11788291, 0.06950526,\n",
       "       0.0516145 , 0.06039107, 0.13202175, 0.00386244, 0.00391632])"
      ]
     },
     "execution_count": 64,
     "metadata": {},
     "output_type": "execute_result"
    }
   ],
   "source": [
    "rf.feature_importances_"
   ]
  },
  {
   "cell_type": "code",
   "execution_count": 68,
   "id": "6dd2e88d",
   "metadata": {},
   "outputs": [
    {
     "data": {
      "text/plain": [
       "ID                                            1\n",
       "LIMIT_BAL                                 20000\n",
       "PAY_0                                         2\n",
       "PAY_2                                         2\n",
       "PAY_3                                        -1\n",
       "PAY_4                                        -1\n",
       "PAY_5                                        -2\n",
       "PAY_6                                        -2\n",
       "BILL_AMT1                                  3913\n",
       "BILL_AMT2                                  3102\n",
       "BILL_AMT3                                   689\n",
       "BILL_AMT4                                     0\n",
       "BILL_AMT5                                     0\n",
       "BILL_AMT6                                     0\n",
       "PAY_AMT1                                      0\n",
       "PAY_AMT2                                    689\n",
       "PAY_AMT3                                      0\n",
       "PAY_AMT4                                      0\n",
       "PAY_AMT5                                      0\n",
       "PAY_AMT6                                      0\n",
       "default payment next month_default            1\n",
       "default payment next month_not default        0\n",
       "lim_array                                     0\n",
       "Name: 0, dtype: int64"
      ]
     },
     "execution_count": 68,
     "metadata": {},
     "output_type": "execute_result"
    }
   ],
   "source": [
    "rawData.loc[0]"
   ]
  },
  {
   "cell_type": "code",
   "execution_count": 69,
   "id": "6285a318",
   "metadata": {},
   "outputs": [
    {
     "data": {
      "text/plain": [
       "Index(['ID', 'LIMIT_BAL', 'PAY_0', 'PAY_2', 'PAY_3', 'PAY_4', 'PAY_5', 'PAY_6',\n",
       "       'BILL_AMT1', 'BILL_AMT2', 'BILL_AMT3', 'BILL_AMT4', 'BILL_AMT5',\n",
       "       'BILL_AMT6', 'PAY_AMT1', 'PAY_AMT2', 'PAY_AMT3', 'PAY_AMT4', 'PAY_AMT5',\n",
       "       'PAY_AMT6', 'default payment next month_default',\n",
       "       'default payment next month_not default', 'lim_array'],\n",
       "      dtype='object')"
      ]
     },
     "execution_count": 69,
     "metadata": {},
     "output_type": "execute_result"
    }
   ],
   "source": [
    "rawData.columns"
   ]
  },
  {
   "cell_type": "code",
   "execution_count": 71,
   "id": "266c6502",
   "metadata": {},
   "outputs": [],
   "source": [
    "chartlabels = rawData[['PAY_0','PAY_2','PAY_3','PAY_4','PAY_5','PAY_6','BILL_AMT1','BILL_AMT2','BILL_AMT3','BILL_AMT4','BILL_AMT5'\n",
    "            ,'BILL_AMT6','PAY_AMT1','PAY_AMT2','PAY_AMT3','PAY_AMT4','PAY_AMT5','PAY_AMT6','default payment next month_default'\n",
    "            ,'default payment next month_not default']]"
   ]
  },
  {
   "cell_type": "code",
   "execution_count": null,
   "id": "449e779a",
   "metadata": {},
   "outputs": [],
   "source": []
  }
 ],
 "metadata": {
  "kernelspec": {
   "display_name": "Python 3 (ipykernel)",
   "language": "python",
   "name": "python3"
  },
  "language_info": {
   "codemirror_mode": {
    "name": "ipython",
    "version": 3
   },
   "file_extension": ".py",
   "mimetype": "text/x-python",
   "name": "python",
   "nbconvert_exporter": "python",
   "pygments_lexer": "ipython3",
   "version": "3.9.12"
  }
 },
 "nbformat": 4,
 "nbformat_minor": 5
}
